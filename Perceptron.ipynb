{
 "cells": [
  {
   "cell_type": "markdown",
   "id": "4315ae3d",
   "metadata": {},
   "source": [
    "### Perceptron Algorithm \n",
    "This is simples algorithm to separate linearly separable data points <br>\n",
    "first initialize a vector W randomly, so decision boundary is hyperplane WTx=0 <br>\n",
    "so every point left to hyperplane is -ve class and right are positive class (wTx<0 belongs to -ve and WTx>0 belongs to positive) <br>\n",
    "for any +ve class point x if wTx<0 or -ve class point x if wTx>0 then that hyperplane should be adjusted such that it satisfy the condition <br>\n",
    "so w(new)=w(new)+sign(wtx).x (this change in w rotates or shifts the hyperplane(Wtx))\n",
    "\n",
    "disadvantages:- \n",
    "1. sensitive to outliers (decision boundary change for every single wrong prediction)\n",
    "2. no magnitude on decision (eg in logistic regression we use sigmoid which give probabilistic value on the shift in decision boundary where perceptron is just yes or no)\n",
    "3. cannot separate non linearly separable data\n",
    "\n",
    "advantage:- \n",
    "1. perceptron concept is base for more sophesticated model like logistic regression"
   ]
  },
  {
   "cell_type": "code",
   "execution_count": null,
   "id": "af82319b",
   "metadata": {},
   "outputs": [],
   "source": [
    "import numpy as np\n",
    "\n",
    "class Perceptron:\n",
    "    def __init__(self, learning_rate=1.0, n_iters=1000):\n",
    "        self.lr = learning_rate\n",
    "        self.n_iters = n_iters\n",
    "        self.w = None\n",
    "\n",
    "    def fit(self, X, y):\n",
    "        n_samples, n_features = X.shape\n",
    "\n",
    "        # Add a column of 1s to X for bias term\n",
    "        X_augmented = np.hstack([X, np.ones((n_samples, 1))])\n",
    "\n",
    "        # Initialize weights (including bias)\n",
    "        self.w = np.random.rand(n_features + 1)\n",
    "\n",
    "        # Convert labels to +1 and -1\n",
    "        y_ = np.where(y <= 0, -1, 1)\n",
    "\n",
    "        for _ in range(self.n_iters):\n",
    "            for idx, x_i in enumerate(X_augmented):\n",
    "                linear_output = np.dot(x_i, self.w)\n",
    "                if y_[idx] * linear_output <= 0:\n",
    "                    self.w += self.lr * y_[idx] * x_i\n",
    "\n",
    "    def predict(self, X):\n",
    "        X_augmented = np.hstack([X, np.ones((X.shape[0], 1))])\n",
    "        linear_output = np.dot(X_augmented, self.w)\n",
    "        return np.where(linear_output >= 0, 1, -1)\n",
    "    \n",
    "    def get_params(self):\n",
    "        return self.w\n"
   ]
  },
  {
   "cell_type": "code",
   "execution_count": 28,
   "id": "952d3db9",
   "metadata": {},
   "outputs": [],
   "source": [
    "model=Perceptron()\n",
    "model.fit(X=np.array([[0,0],[0,1],[1,0],[1,1]]),y=np.array([1,0,0,0]))"
   ]
  },
  {
   "cell_type": "code",
   "execution_count": 29,
   "metadata": {},
   "outputs": [
    {
     "data": {
      "text/plain": [
       "array([-0.56166234, -1.04227199,  0.33997269])"
      ]
     },
     "execution_count": 29,
     "metadata": {},
     "output_type": "execute_result"
    }
   ],
   "source": [
    "model.get_params()"
   ]
  }
 ],
 "metadata": {
  "kernelspec": {
   "display_name": "venv",
   "language": "python",
   "name": "python3"
  },
  "language_info": {
   "codemirror_mode": {
    "name": "ipython",
    "version": 3
   },
   "file_extension": ".py",
   "mimetype": "text/x-python",
   "name": "python",
   "nbconvert_exporter": "python",
   "pygments_lexer": "ipython3",
   "version": "3.12.4"
  }
 },
 "nbformat": 4,
 "nbformat_minor": 5
}
